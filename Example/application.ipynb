{
 "cells": [
  {
   "cell_type": "code",
   "execution_count": 13,
   "metadata": {},
   "outputs": [],
   "source": [
    "import numpy as np\n",
    "from sklearn.model_selection import train_test_split\n",
    "from sklearn.datasets import make_classification\n",
    "from sklearn.neighbors import KNeighborsClassifier\n",
    "\n",
    "from knn import KNearestNeighbor"
   ]
  },
  {
   "cell_type": "code",
   "execution_count": 14,
   "metadata": {},
   "outputs": [],
   "source": [
    "X, y = make_classification(n_samples=200, n_features=20, n_classes=2, random_state=42)\n"
   ]
  },
  {
   "cell_type": "code",
   "execution_count": 15,
   "metadata": {},
   "outputs": [],
   "source": [
    "X_train, X_val, y_train, y_val = train_test_split(X, y, test_size=0.2, random_state=42)"
   ]
  },
  {
   "cell_type": "code",
   "execution_count": 16,
   "metadata": {},
   "outputs": [
    {
     "name": "stdout",
     "output_type": "stream",
     "text": [
      "Sklearn KNN Accuracy (k=5): 0.8250\n"
     ]
    }
   ],
   "source": [
    "sklearn_knn = KNeighborsClassifier(n_neighbors=5)  \n",
    "sklearn_knn.fit(X_train, y_train)\n",
    "sklearn_y_pred = sklearn_knn.predict(X_val)\n",
    "sklearn_accuracy = np.mean(sklearn_y_pred == y_val)\n",
    "print(f\"Sklearn KNN Accuracy (k=5): {sklearn_accuracy:.4f}\")\n"
   ]
  },
  {
   "cell_type": "code",
   "execution_count": 17,
   "metadata": {},
   "outputs": [
    {
     "name": "stdout",
     "output_type": "stream",
     "text": [
      "Custom KNN Accuracy (k=5): 0.8250\n"
     ]
    }
   ],
   "source": [
    "knn = KNearestNeighbor()\n",
    "knn.fit(X_train, y_train)\n",
    "knn_y_pred = knn.predict(X_val, k=5)\n",
    "knn_accuracy = np.mean(knn_y_pred == y_val)\n",
    "print(f\"Custom KNN Accuracy (k=5): {knn_accuracy:.4f}\")"
   ]
  },
  {
   "cell_type": "code",
   "execution_count": 18,
   "metadata": {},
   "outputs": [
    {
     "name": "stdout",
     "output_type": "stream",
     "text": [
      "\n",
      "Both models showed the same accuracy.\n"
     ]
    }
   ],
   "source": [
    "if np.isclose(sklearn_accuracy, knn_accuracy):\n",
    "    print(\"\\nBoth models showed the same accuracy.\")\n",
    "else:\n",
    "    print(\"\\nThe models showed different results\")\n",
    "    print(f\"Sklearn KNN Accuracy: {sklearn_accuracy:.4f}\")\n",
    "    print(f\"Custom KNN Accuracy: {knn_accuracy:.4f}\")"
   ]
  },
  {
   "cell_type": "code",
   "execution_count": 19,
   "metadata": {},
   "outputs": [],
   "source": [
    "knn = KNearestNeighbor()\n",
    "knn.fit(X_train, y_train)"
   ]
  },
  {
   "cell_type": "code",
   "execution_count": 20,
   "metadata": {},
   "outputs": [
    {
     "name": "stdout",
     "output_type": "stream",
     "text": [
      "k = 1, Accuracy = 0.7000\n",
      "k = 3, Accuracy = 0.8000\n",
      "k = 5, Accuracy = 0.8250\n",
      "k = 7, Accuracy = 0.8250\n",
      "k = 9, Accuracy = 0.7750\n",
      "k = 11, Accuracy = 0.8250\n",
      "\n",
      "Best k: 5 with Accuracy: 0.8250\n"
     ]
    }
   ],
   "source": [
    "best_k_custom = knn.choose_best_k(X_val, y_val)"
   ]
  },
  {
   "cell_type": "markdown",
   "metadata": {},
   "source": [
    "Let's test various distance metrics for a custom model."
   ]
  },
  {
   "cell_type": "code",
   "execution_count": 21,
   "metadata": {},
   "outputs": [
    {
     "name": "stdout",
     "output_type": "stream",
     "text": [
      "Custom KNN Accuracy with k=5 and distance_metric='l1': 0.7750\n",
      "Custom KNN Accuracy with k=5 and distance_metric='l2': 0.8250\n",
      "Custom KNN Accuracy with k=5 and distance_metric='cosine': 0.8500\n",
      "Custom KNN Accuracy with k=5 and distance_metric='chebyshev': 0.7500\n"
     ]
    }
   ],
   "source": [
    "metrics = ['l1', 'l2', 'cosine', 'chebyshev']\n",
    "for metric in metrics:\n",
    "    knn_y_pred = knn.predict(X_val, k=best_k_custom, distance_metric=metric)\n",
    "    knn_accuracy = np.mean(knn_y_pred == y_val)\n",
    "    print(f\"Custom KNN Accuracy with k={best_k_custom} and distance_metric='{metric}': {knn_accuracy:.4f}\")"
   ]
  }
 ],
 "metadata": {
  "kernelspec": {
   "display_name": ".venv",
   "language": "python",
   "name": "python3"
  },
  "language_info": {
   "codemirror_mode": {
    "name": "ipython",
    "version": 3
   },
   "file_extension": ".py",
   "mimetype": "text/x-python",
   "name": "python",
   "nbconvert_exporter": "python",
   "pygments_lexer": "ipython3",
   "version": "3.12.3"
  }
 },
 "nbformat": 4,
 "nbformat_minor": 2
}
